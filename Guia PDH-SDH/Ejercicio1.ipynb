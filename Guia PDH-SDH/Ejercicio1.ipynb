{
 "cells": [
  {
   "cell_type": "markdown",
   "source": [
    "## Determinar las velocidades máxima y mínima de las tributarias que se pueden acomodar en PDH en los niveles de 8.448 Mbps, 34.368 Mbps, 139.264 Mbps y 564.992 Mbps."
   ],
   "metadata": {
    "collapsed": false,
    "pycharm": {
     "name": "#%% md\n"
    }
   }
  },
  {
   "cell_type": "markdown",
   "source": [
    "Para 8.448 Mbps:\n",
    "<img src=\"E2.png\">"
   ],
   "metadata": {
    "collapsed": false,
    "pycharm": {
     "name": "#%% md\n"
    }
   }
  },
  {
   "cell_type": "code",
   "execution_count": 6,
   "metadata": {
    "collapsed": true,
    "pycharm": {
     "name": "#%%\n"
    }
   },
   "outputs": [
    {
     "name": "stdout",
     "output_type": "stream",
     "text": [
      "El periodo de la trama es: 100.379 us\n"
     ]
    }
   ],
   "source": [
    "bits_por_trama = 848 #bits/trama\n",
    "f = 8.448*1e6 #bps\n",
    "T_frame = bits_por_trama/f\n",
    "print(\"El periodo de la trama es: {} us\".format(round(T_frame*1e6,3)))"
   ]
  },
  {
   "cell_type": "code",
   "execution_count": 6,
   "outputs": [],
   "source": [],
   "metadata": {
    "collapsed": false,
    "pycharm": {
     "name": "#%%\n"
    }
   }
  }
 ],
 "metadata": {
  "kernelspec": {
   "display_name": "Python 3",
   "language": "python",
   "name": "python3"
  },
  "language_info": {
   "codemirror_mode": {
    "name": "ipython",
    "version": 2
   },
   "file_extension": ".py",
   "mimetype": "text/x-python",
   "name": "python",
   "nbconvert_exporter": "python",
   "pygments_lexer": "ipython2",
   "version": "2.7.6"
  }
 },
 "nbformat": 4,
 "nbformat_minor": 0
}