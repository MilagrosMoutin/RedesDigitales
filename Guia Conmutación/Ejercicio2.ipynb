{
 "cells": [
  {
   "cell_type": "code",
   "execution_count": 38,
   "outputs": [],
   "source": [
    "import math\n",
    "import numpy as np"
   ],
   "metadata": {
    "collapsed": false,
    "pycharm": {
     "name": "#%%\n"
    }
   }
  },
  {
   "cell_type": "markdown",
   "source": [
    "## Calcular el número de puntos de cruce para el switch por división de espacio de 3 etapas del problema anterior si se admite una probabilidad de bloqueo B = 0.002 y la ocupación de canal p = 0.1."
   ],
   "metadata": {
    "collapsed": false,
    "pycharm": {
     "name": "#%% md\n"
    }
   }
  },
  {
   "cell_type": "markdown",
   "source": [
    "Datos del problema:"
   ],
   "metadata": {
    "collapsed": false,
    "pycharm": {
     "name": "#%% md\n"
    }
   }
  },
  {
   "cell_type": "code",
   "execution_count": 39,
   "outputs": [],
   "source": [
    "B = 0.002\n",
    "p = 0.1\n",
    "N = 2048"
   ],
   "metadata": {
    "collapsed": false,
    "pycharm": {
     "name": "#%%\n"
    }
   }
  },
  {
   "cell_type": "markdown",
   "source": [
    "$n_{op} = \\sqrt{\\frac{N}{2}}$"
   ],
   "metadata": {
    "collapsed": false,
    "pycharm": {
     "name": "#%% md\n"
    }
   }
  },
  {
   "cell_type": "code",
   "execution_count": 40,
   "metadata": {
    "collapsed": true,
    "pycharm": {
     "name": "#%%\n"
    }
   },
   "outputs": [],
   "source": [
    "n_op = math.sqrt(N/2)"
   ]
  },
  {
   "cell_type": "markdown",
   "source": [
    "Busco un k que cumple con la probabilidad de bloqueo que pide el problema recordando que:\n",
    "$B = \\left ( 1 - \\left ( 1- p\\cdot \\left ( \\frac{n}{k} \\right ) \\right )^2\\right )^k$"
   ],
   "metadata": {
    "collapsed": false,
    "pycharm": {
     "name": "#%% md\n"
    }
   }
  },
  {
   "cell_type": "code",
   "execution_count": 41,
   "outputs": [
    {
     "name": "stdout",
     "output_type": "stream",
     "text": [
      "El k que cumple es 11\n"
     ]
    }
   ],
   "source": [
    "B_eq = lambda k: (1 - ((1-(p*n_op/k))**2))**k\n",
    "k = 1\n",
    "while(abs(B_eq(k)) > B):\n",
    "    k= k+1\n",
    "print(\"El k que cumple es {}\".format(k))"
   ],
   "metadata": {
    "collapsed": false,
    "pycharm": {
     "name": "#%%\n"
    }
   }
  },
  {
   "cell_type": "markdown",
   "source": [
    "La complejidad del switch es:\n",
    "$N_x = 2Nk + k\\left ( \\frac{N}{n}\\right )^2$"
   ],
   "metadata": {
    "collapsed": false,
    "pycharm": {
     "name": "#%% md\n"
    }
   }
  },
  {
   "cell_type": "code",
   "execution_count": 42,
   "outputs": [
    {
     "name": "stdout",
     "output_type": "stream",
     "text": [
      "La complejidad Nx = 90112\n"
     ]
    }
   ],
   "source": [
    "Nx = 2*N*k + k*(N/n_op)**2\n",
    "print(\"La complejidad Nx = {}\".format(int(Nx)))"
   ],
   "metadata": {
    "collapsed": false,
    "pycharm": {
     "name": "#%%\n"
    }
   }
  },
  {
   "cell_type": "markdown",
   "source": [],
   "metadata": {
    "collapsed": false,
    "pycharm": {
     "name": "#%% md\n"
    }
   }
  }
 ],
 "metadata": {
  "kernelspec": {
   "display_name": "Python 3",
   "language": "python",
   "name": "python3"
  },
  "language_info": {
   "codemirror_mode": {
    "name": "ipython",
    "version": 2
   },
   "file_extension": ".py",
   "mimetype": "text/x-python",
   "name": "python",
   "nbconvert_exporter": "python",
   "pygments_lexer": "ipython2",
   "version": "2.7.6"
  }
 },
 "nbformat": 4,
 "nbformat_minor": 0
}