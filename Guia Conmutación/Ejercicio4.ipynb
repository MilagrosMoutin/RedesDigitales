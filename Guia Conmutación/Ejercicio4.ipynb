{
 "cells": [
  {
   "cell_type": "markdown",
   "source": [
    "## Considerar un switch TSI cuya memoria tiene un tiempo de ciclo de 50ns y está organizada en palabras de 16 bits. Las tramas tiene 1024 bits. ¿Cuál es la tasa de datos máxima por canal? ¿Cuál es la tasa de datos de las líneas troncales conectadas con el switch?"
   ],
   "metadata": {
    "collapsed": false,
    "pycharm": {
     "name": "#%% md\n"
    }
   }
  },
  {
   "cell_type": "code",
   "execution_count": null,
   "metadata": {
    "collapsed": true,
    "pycharm": {
     "name": "#%%\n"
    }
   },
   "outputs": [],
   "source": []
  }
 ],
 "metadata": {
  "kernelspec": {
   "display_name": "Python 3",
   "language": "python",
   "name": "python3"
  },
  "language_info": {
   "codemirror_mode": {
    "name": "ipython",
    "version": 2
   },
   "file_extension": ".py",
   "mimetype": "text/x-python",
   "name": "python",
   "nbconvert_exporter": "python",
   "pygments_lexer": "ipython2",
   "version": "2.7.6"
  }
 },
 "nbformat": 4,
 "nbformat_minor": 0
}