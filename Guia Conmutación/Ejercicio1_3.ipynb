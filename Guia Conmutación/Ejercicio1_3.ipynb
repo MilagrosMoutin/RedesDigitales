{
 "cells": [
  {
   "cell_type": "code",
   "execution_count": 42,
   "outputs": [],
   "source": [
    "import math\n",
    "import numpy as np"
   ],
   "metadata": {
    "collapsed": false,
    "pycharm": {
     "name": "#%%\n"
    }
   }
  },
  {
   "cell_type": "markdown",
   "source": [
    "## Considerar un switch por división de espacio de 3 etapas sin bloqueo con 2048 líneas de entrada y 2048 líneas de salida. Para un diseño óptimo, cual es el número total de puntos de cruce requeridos, cuentos arreglos se necesitan en cada etapa y cuantas líneas de entrada y salida tiene.\n",
    "## Comparar con un switch de etapa única."
   ],
   "metadata": {
    "collapsed": false,
    "pycharm": {
     "name": "#%% md\n"
    }
   }
  },
  {
   "cell_type": "markdown",
   "source": [
    "<img src=\"Switch3Etapas.png\">"
   ],
   "metadata": {
    "collapsed": false,
    "pycharm": {
     "name": "#%% md\n"
    }
   }
  },
  {
   "cell_type": "markdown",
   "source": [
    "Datos del problema:"
   ],
   "metadata": {
    "collapsed": false,
    "pycharm": {
     "name": "#%% md\n"
    }
   }
  },
  {
   "cell_type": "code",
   "execution_count": 43,
   "outputs": [],
   "source": [
    "N = 2048 #Cantidad de lineas de entrada y salida"
   ],
   "metadata": {
    "collapsed": false,
    "pycharm": {
     "name": "#%%\n"
    }
   }
  },
  {
   "cell_type": "markdown",
   "source": [
    "Para que el switch sea óptimo:\n",
    "$n_{op} = \\sqrt{\\frac{N}{2}}$\n",
    "$k = 2 n_{op} - 1$\n",
    "$N_x = 4N + (\\sqrt{2N} - 1)$"
   ],
   "metadata": {
    "collapsed": false,
    "pycharm": {
     "name": "#%% md\n"
    }
   }
  },
  {
   "cell_type": "code",
   "execution_count": 44,
   "metadata": {
    "collapsed": true,
    "pycharm": {
     "name": "#%%\n"
    }
   },
   "outputs": [
    {
     "name": "stdout",
     "output_type": "stream",
     "text": [
      "nop = 32.0, k = 63.0, Nx = 8255.0 puntos de cruce\n"
     ]
    }
   ],
   "source": [
    "n_op = math.sqrt(N/2)\n",
    "k = 2*n_op - 1\n",
    "Nx = 4*N + (math.sqrt(2*N)-1)\n",
    "print(\"nop = {}, k = {}, Nx = {} puntos de cruce\".format(n_op, k, Nx))"
   ]
  },
  {
   "cell_type": "code",
   "execution_count": 45,
   "outputs": [
    {
     "name": "stdout",
     "output_type": "stream",
     "text": [
      "Para la primera etapa se tienen 64.0 arreglos de 32x63.\n",
      "Para la segunda etapa se tiene 63.0 arreglos de 64x64.\n",
      "Para la primera etapa se tienen 64.0 arreglos de 63x32.\n"
     ]
    }
   ],
   "source": [
    "print(\"Para la primera etapa se tienen {} arreglos de {}x{}.\".format(N/n_op, int(n_op), int(k)))\n",
    "print(\"Para la segunda etapa se tiene {} arreglos de {}x{}.\".format(k, int(N/n_op),int(N/n_op)))\n",
    "print(\"Para la primera etapa se tienen {} arreglos de {}x{}.\".format(N/n_op, int(k), int(n_op)))"
   ],
   "metadata": {
    "collapsed": false,
    "pycharm": {
     "name": "#%%\n"
    }
   }
  },
  {
   "cell_type": "markdown",
   "source": [
    "Para un switch rectangular de etapa única:\n",
    "$N_x = N\\cdot (N-1)$"
   ],
   "metadata": {
    "collapsed": false,
    "pycharm": {
     "name": "#%% md\n"
    }
   }
  },
  {
   "cell_type": "code",
   "execution_count": 46,
   "outputs": [
    {
     "name": "stdout",
     "output_type": "stream",
     "text": [
      "Combinado 3 etapas espaciales la complejidad da 8255 mientras que para el switch de etapa única se tiene una complejidad de 4192256.\n"
     ]
    }
   ],
   "source": [
    "Nx_etapaunica = N*(N-1)\n",
    "print(\"Combinado 3 etapas espaciales la complejidad da {} mientras que para el switch de etapa única se tiene una complejidad de {}.\".format(int(Nx), Nx_etapaunica))"
   ],
   "metadata": {
    "collapsed": false,
    "pycharm": {
     "name": "#%%\n"
    }
   }
  },
  {
   "cell_type": "markdown",
   "source": [
    "## Cuantos puntos de switch se necesitarian si se usara switching por bus TDM?"
   ],
   "metadata": {
    "collapsed": false,
    "pycharm": {
     "name": "#%% md\n"
    }
   }
  },
  {
   "cell_type": "code",
   "execution_count": 47,
   "outputs": [
    {
     "name": "stdout",
     "output_type": "stream",
     "text": [
      "Nx = 2048\n"
     ]
    }
   ],
   "source": [
    "print(\"Nx = {}\".format(N))"
   ],
   "metadata": {
    "collapsed": false,
    "pycharm": {
     "name": "#%%\n"
    }
   }
  }
 ],
 "metadata": {
  "kernelspec": {
   "display_name": "Python 3",
   "language": "python",
   "name": "python3"
  },
  "language_info": {
   "codemirror_mode": {
    "name": "ipython",
    "version": 2
   },
   "file_extension": ".py",
   "mimetype": "text/x-python",
   "name": "python",
   "nbconvert_exporter": "python",
   "pygments_lexer": "ipython2",
   "version": "2.7.6"
  }
 },
 "nbformat": 4,
 "nbformat_minor": 0
}